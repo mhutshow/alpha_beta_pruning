{
 "cells": [
  {
   "cell_type": "code",
   "execution_count": null,
   "id": "50cc23ba",
   "metadata": {},
   "outputs": [],
   "source": [
    "import math\n",
    "\n",
    "def depth():\n",
    "    return 2 * int(inp.readline())\n",
    "\n",
    "def depth_zero():\n",
    "    global leafNodesCount\n",
    "    temp = int(inp.readline())\n",
    "    print(\"Input: \", leafNodesCount, \"th Leaf\", temp)\n",
    "    leafNodesCount += 1\n",
    "    return temp\n",
    "\n",
    "def alphaBetaPruning(d, a, b): \n",
    "    if d == 0:\n",
    "        return depth_zero()\n",
    "    for _ in range(values):\n",
    "        print(\"Depth: \", d, \" Branch:\", str(_ + 1))\n",
    "        ranking = alphaBetaPruning(d - 1, a, b)\n",
    "        print(\"Depth: \", d, \" Branch:\", str(_ + 1))\n",
    "        if d % 2 == 1: \n",
    "            b = min(b, ranking)\n",
    "        else:\n",
    "            a = max(a, ranking)\n",
    "        if a >= b:\n",
    "            skip = (values - _ - 1) * pow(2, d - 1)\n",
    "            global num_skipped\n",
    "            num_skipped = skip\n",
    "            for __ in range(skip):\n",
    "                print(\"Condition Satisfied\", inp.readline())\n",
    "            break\n",
    "    return a if d % 2 == 0 else b\n",
    "\n",
    "inp = open(\"cse422lab03.txt\")\n",
    "values = int(inp.readline())\n",
    "leafNodesCount = 1\n",
    "num_skipped = 0    \n",
    "col = alphaBetaPruning(depth(), -math.inf, math.inf)\n",
    "print(\"Collected: \", col)\n",
    "print(\"num_skipped = \", num_skipped)"
   ]
  },
  {
   "cell_type": "code",
   "execution_count": 2,
   "id": "5c8b95ac",
   "metadata": {},
   "outputs": [],
   "source": [
    "import math"
   ]
  },
  {
   "cell_type": "code",
   "execution_count": null,
   "id": "52aaa763",
   "metadata": {},
   "outputs": [],
   "source": []
  }
 ],
 "metadata": {
  "kernelspec": {
   "display_name": "Python 3",
   "language": "python",
   "name": "python3"
  },
  "language_info": {
   "codemirror_mode": {
    "name": "ipython",
    "version": 3
   },
   "file_extension": ".py",
   "mimetype": "text/x-python",
   "name": "python",
   "nbconvert_exporter": "python",
   "pygments_lexer": "ipython3",
   "version": "3.8.8"
  }
 },
 "nbformat": 4,
 "nbformat_minor": 5
}
